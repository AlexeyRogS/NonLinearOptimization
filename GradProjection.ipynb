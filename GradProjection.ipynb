{
 "cells": [
  {
   "cell_type": "code",
   "execution_count": 1,
   "metadata": {},
   "outputs": [],
   "source": [
    "import numpy as np\n",
    "import numpy.linalg as alg\n",
    "import sympy\n",
    "import scipy.linalg as salg\n",
    "import pandas as pd\n",
    "import time"
   ]
  },
  {
   "cell_type": "markdown",
   "metadata": {},
   "source": [
    "## Here we want to emplement a standart gradient discend method for our supply and use tables. \n",
    "(For more details please refer to a russian book \"МЕТОДЫ ОПТИМИЗАЦИИ И ИССЛЕДОВАНИЕ ОПЕРАЦИЙ ДЛЯ БАКАЛАВРОВ ИНФОРМАТИКИ\" by Б.А. Гладких part2). In particular we used so called proximal gradient methods."
   ]
  },
  {
   "cell_type": "code",
   "execution_count": 2,
   "metadata": {},
   "outputs": [],
   "source": [
    "def find_actives(used, X):\n",
    "    '''This function is ment to find all the active restrictions'''\n",
    "    activ = []\n",
    "    for i in range(X.shape[0]):\n",
    "        if i in used:\n",
    "            continue\n",
    "        if abs(-X[i] - 1) < 1e-10:\n",
    "            activ.append(i)\n",
    "    return set(activ)"
   ]
  },
  {
   "cell_type": "code",
   "execution_count": 3,
   "metadata": {},
   "outputs": [],
   "source": [
    "def predict(previous_year, current_year, eps = 1e-8):\n",
    "    D = previous_year\n",
    "    B = current_year\n",
    "    \n",
    "    m = D.shape[1]\n",
    "    n = D.shape[0]\n",
    "    u = np.sum(B, axis=1)  # Summ by rows\n",
    "    v = np.sum(B, axis=0)  # Summ by columns\n",
    "    \n",
    "    C = np.eye(D.shape[0]*D.shape[1]) * D.flatten()  # Quadratic matrix in transition from matrices to vectors\n",
    "    A = np.zeros((D.shape[0]+D.shape[1], D.shape[0]*D.shape[1]))  # Restriction matrix Ax  = b\n",
    "    for i in range(n):\n",
    "        for j in range(i*m, (i+1)*m):\n",
    "            A[i][j] = C[j][j]\n",
    "    for i in range(n, n+m):\n",
    "        for j in range(i-n, n*m, m):\n",
    "            A[i][j] = C[j][j]\n",
    "    \n",
    "    M = np.eye(n*m, n*m) * -1\n",
    "    b = np.array([1]*(n*m))\n",
    "    used = set()  # A set of previously considred active restrictions.\n",
    "    \n",
    "    \n",
    "    u_v = np.concatenate((u, v), axis=0)\n",
    "    new_u_v = u_v - A.dot(np.ones(A.shape[1]))  # Vectors union (и and v) and modifications of our restrictions into Ax = u_v\n",
    "    X = alg.pinv(A).dot(new_u_v)  # Initial approximation\n",
    "    \n",
    "    actives = find_actives(used, X)\n",
    "    for i in actives:\n",
    "        A = np.concatenate((A, [M[i]]), axis=0)\n",
    "    used = used.union(actives)\n",
    "    \n",
    "    \n",
    "    P = np.eye(A.shape[1]) - alg.pinv(A).dot(A)  # Projection matrix\n",
    "    \n",
    "    a_abs = np.abs(C.diagonal())  # A matrix of a square form at transition from matrices to vectors \n",
    "                                  # (to be more precise, its diagonal, we should not forget that in \n",
    "                                  #  our function these are modules |a|).\n",
    "    f_val = np.sum(a_abs * X**2)  # Target function value under initial approximation.\n",
    "    while 1:\n",
    "        \n",
    "        d = (-1)*P.dot(2*a_abs*X)  # Antigradient direction, projected to the permissible range\n",
    "        if alg.norm(d) < 1e-8:\n",
    "            break\n",
    "        \n",
    "        T = 10**20  # We want to make T as big as possible to avoid any mistakes\n",
    "        for i in range(M.shape[0]):\n",
    "            if i in used:\n",
    "                continue\n",
    "            if M[i].dot(d) != 0:\n",
    "                new_T = (b[i] - M[i].dot(X)) / M[i].dot(d)\n",
    "                T = min(T, new_T)\n",
    "            \n",
    "        T = max(0, T)\n",
    "        t = - d.dot(C.dot(X)) / d.dot(C.dot(d))  # Optimal stride value\n",
    "        t = min(t, T)\n",
    "        \n",
    "        new_X = X + t*d\n",
    "        new_f = np.sum(a_abs * new_X**2)\n",
    "        if abs((f_val/new_f) - 1) < eps:\n",
    "            X = new_X\n",
    "            break\n",
    "        X = new_X\n",
    "        f_val = new_f\n",
    "        \n",
    "        actives = find_actives(used, X)\n",
    "        for i in actives:\n",
    "            A = np.concatenate((A, [M[i]]), axis=0)\n",
    "        used = used.union(actives)\n",
    "\n",
    "        P = np.eye(A.shape[1]) - alg.pinv(A).dot(A)  # Projection matrix refreshment\n",
    "        \n",
    "        \n",
    "        \n",
    "    return ((X + 1) * C.diagonal()).reshape(B.shape[0], B.shape[1])"
   ]
  },
  {
   "cell_type": "markdown",
   "metadata": {},
   "source": [
    "## Metrics"
   ]
  },
  {
   "cell_type": "code",
   "execution_count": 4,
   "metadata": {},
   "outputs": [],
   "source": [
    "def MAPE(result, true):\n",
    "    answer = 0\n",
    "    for i in range(true.shape[0]):\n",
    "        for j in range(true.shape[1]):\n",
    "            if true[i][j] != 0:\n",
    "                answer += abs(result[i][j] - true[i][j]) / abs(true[i][j])\n",
    "            elif result[i][j] != 0:\n",
    "                answer += abs(result[i][j] - true[i][j]) / abs(result[i][j])\n",
    "    return 100*answer / (true.shape[0] * true.shape[1])"
   ]
  },
  {
   "cell_type": "code",
   "execution_count": 5,
   "metadata": {},
   "outputs": [],
   "source": [
    "def WAPE(result, true):\n",
    "    answer = 0\n",
    "    for i in range(true.shape[0]):\n",
    "        for j in range(true.shape[1]):\n",
    "            if true[i][j] != 0:\n",
    "                answer += (abs(true[i][j]) / np.sum(true)) * abs(result[i][j] - true[i][j]) / abs(true[i][j])\n",
    "            else:\n",
    "                answer += abs(result[i][j] - true[i][j]) / np.sum(true)\n",
    "    return answer * 100"
   ]
  },
  {
   "cell_type": "code",
   "execution_count": 6,
   "metadata": {},
   "outputs": [],
   "source": [
    "def SWAD(result, true):\n",
    "    return np.sum(np.abs(true*(result - true)))  / np.sum(np.square(true))"
   ]
  },
  {
   "cell_type": "markdown",
   "metadata": {},
   "source": [
    "## Full circle of predictions"
   ]
  },
  {
   "cell_type": "code",
   "execution_count": 7,
   "metadata": {},
   "outputs": [],
   "source": [
    "sup10 = np.load('data//sup10.npy')\n",
    "sup11 = np.load('data//sup11.npy')\n",
    "sup12 = np.load('data//sup12.npy')\n",
    "use10 = np.load('data//use10.npy')\n",
    "use11 = np.load('data//use11.npy')\n",
    "use12 = np.load('data//use12.npy')"
   ]
  },
  {
   "cell_type": "code",
   "execution_count": 8,
   "metadata": {},
   "outputs": [],
   "source": [
    "results = {key: {metric: 0 for metric in ['MAPE', 'WAPE', 'SWAD']} for key in ['sup11', 'sup12', 'use11', 'use12']}"
   ]
  },
  {
   "cell_type": "code",
   "execution_count": 9,
   "metadata": {},
   "outputs": [],
   "source": [
    "pred_sup11 = predict(sup10, sup11)\n",
    "pred_sup12 = predict(pred_sup11, sup12)\n",
    "\n",
    "pred_use11 = predict(use10, use11)\n",
    "pred_use12 = predict(pred_use11, use12)"
   ]
  },
  {
   "cell_type": "code",
   "execution_count": 10,
   "metadata": {},
   "outputs": [],
   "source": [
    "for metric_name, metric in zip(['MAPE', 'WAPE', 'SWAD'], [MAPE, WAPE, SWAD]):\n",
    "    results['sup11'][metric_name] = metric(pred_sup11, sup11)\n",
    "    results['sup12'][metric_name] = metric(pred_sup12, sup12)\n",
    "    results['use11'][metric_name] = metric(pred_use11, use11)\n",
    "    results['use12'][metric_name] = metric(pred_use12, use12)"
   ]
  },
  {
   "cell_type": "code",
   "execution_count": 11,
   "metadata": {},
   "outputs": [
    {
     "data": {
      "text/html": [
       "<div>\n",
       "<style scoped>\n",
       "    .dataframe tbody tr th:only-of-type {\n",
       "        vertical-align: middle;\n",
       "    }\n",
       "\n",
       "    .dataframe tbody tr th {\n",
       "        vertical-align: top;\n",
       "    }\n",
       "\n",
       "    .dataframe thead th {\n",
       "        text-align: right;\n",
       "    }\n",
       "</style>\n",
       "<table border=\"1\" class=\"dataframe\">\n",
       "  <thead>\n",
       "    <tr style=\"text-align: right;\">\n",
       "      <th></th>\n",
       "      <th>sup11</th>\n",
       "      <th>sup12</th>\n",
       "      <th>use11</th>\n",
       "      <th>use12</th>\n",
       "    </tr>\n",
       "  </thead>\n",
       "  <tbody>\n",
       "    <tr>\n",
       "      <td>MAPE</td>\n",
       "      <td>7.139003</td>\n",
       "      <td>9.194080</td>\n",
       "      <td>10.963089</td>\n",
       "      <td>13.160047</td>\n",
       "    </tr>\n",
       "    <tr>\n",
       "      <td>WAPE</td>\n",
       "      <td>1.666577</td>\n",
       "      <td>2.376965</td>\n",
       "      <td>6.067734</td>\n",
       "      <td>8.286170</td>\n",
       "    </tr>\n",
       "    <tr>\n",
       "      <td>SWAD</td>\n",
       "      <td>0.002962</td>\n",
       "      <td>0.004270</td>\n",
       "      <td>0.032906</td>\n",
       "      <td>0.051979</td>\n",
       "    </tr>\n",
       "  </tbody>\n",
       "</table>\n",
       "</div>"
      ],
      "text/plain": [
       "         sup11     sup12      use11      use12\n",
       "MAPE  7.139003  9.194080  10.963089  13.160047\n",
       "WAPE  1.666577  2.376965   6.067734   8.286170\n",
       "SWAD  0.002962  0.004270   0.032906   0.051979"
      ]
     },
     "execution_count": 11,
     "metadata": {},
     "output_type": "execute_result"
    }
   ],
   "source": [
    "pd.DataFrame(results)"
   ]
  }
 ],
 "metadata": {
  "kernelspec": {
   "display_name": "Python 3",
   "language": "python",
   "name": "python3"
  },
  "language_info": {
   "codemirror_mode": {
    "name": "ipython",
    "version": 3
   },
   "file_extension": ".py",
   "mimetype": "text/x-python",
   "name": "python",
   "nbconvert_exporter": "python",
   "pygments_lexer": "ipython3",
   "version": "3.7.4"
  }
 },
 "nbformat": 4,
 "nbformat_minor": 2
}
