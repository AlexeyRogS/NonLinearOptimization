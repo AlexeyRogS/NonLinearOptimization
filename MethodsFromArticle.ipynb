{
 "cells": [
  {
   "cell_type": "code",
   "execution_count": 1,
   "metadata": {},
   "outputs": [],
   "source": [
    "import numpy as np\n",
    "import numpy.linalg as alg\n",
    "import math\n",
    "import scipy.optimize as opt\n",
    "import copy\n",
    "import pandas as pd"
   ]
  },
  {
   "cell_type": "code",
   "execution_count": 2,
   "metadata": {},
   "outputs": [],
   "source": [
    "sup10 = np.load('data/sup10.npy')\n",
    "sup11 = np.load('data/sup11.npy')"
   ]
  },
  {
   "cell_type": "code",
   "execution_count": 3,
   "metadata": {},
   "outputs": [],
   "source": [
    "A = sup10\n",
    "B = sup11"
   ]
  },
  {
   "cell_type": "code",
   "execution_count": 4,
   "metadata": {},
   "outputs": [],
   "source": [
    "u = np.sum(B, axis=1)  # Summ by rows\n",
    "v = np.sum(B, axis=0)  # Summ by columns"
   ]
  },
  {
   "cell_type": "markdown",
   "metadata": {},
   "source": [
    "## 2.3 RAS"
   ]
  },
  {
   "cell_type": "markdown",
   "metadata": {},
   "source": [
    "Please refer to the \"RAS_article\" presented in out repository for more details about this method"
   ]
  },
  {
   "cell_type": "code",
   "execution_count": 5,
   "metadata": {},
   "outputs": [],
   "source": [
    "def diog(x):\n",
    "    return np.eye(x.shape[0]) * x"
   ]
  },
  {
   "cell_type": "code",
   "execution_count": 7,
   "metadata": {},
   "outputs": [],
   "source": [
    "def RAS_pred(previous_year, current_year, eps):\n",
    "    A = previous_year\n",
    "    A = A + 10**(-8)  # We need to add some noise in order to avoid mistakes computing everse matrix\n",
    "    B = current_year\n",
    "    u = np.sum(B, axis=1)\n",
    "    v = np.sum(B, axis=0)\n",
    "    r = np.ones(A.shape[0])\n",
    "    s = np.ones(A.shape[1])\n",
    "    while 1:\n",
    "        matrix1 = diog((A.dot(alg.inv(diog(A.T.dot(r))))).dot(v))\n",
    "        matrix2 = diog((A.T.dot(alg.inv(diog(A.dot(s))))).dot(u))\n",
    "        new_r = alg.inv(matrix1).dot(u)\n",
    "        new_s = alg.inv(matrix2).dot(v)\n",
    "        if alg.norm(new_r - r) < eps and alg.norm(new_s - s) < eps:\n",
    "            r = (alg.inv(diog(A.dot(new_s)))).dot(u)\n",
    "            s = (alg.inv(diog(A.T.dot(new_r)))).dot(v)\n",
    "            break\n",
    "        r = new_r\n",
    "        s = new_s\n",
    "    return (diog(r).dot(A)).dot(diog(s))"
   ]
  },
  {
   "cell_type": "markdown",
   "metadata": {},
   "source": [
    "# All the Following methods are taken from the \"MainArticle\" devoted to our project theme."
   ]
  },
  {
   "cell_type": "markdown",
   "metadata": {},
   "source": [
    "## 2.4 Improved Normalized squared difference (INS)"
   ]
  },
  {
   "cell_type": "code",
   "execution_count": 8,
   "metadata": {},
   "outputs": [],
   "source": [
    "def next_lambda(lambd, tau, z, A, u, M):\n",
    "    min_z = np.where(z < 0, z, 0)\n",
    "    result = lambd.copy()\n",
    "    for i in range(result.shape[0]):\n",
    "        expr = A[i]*min_z[i]*M - tau*np.abs(A[i])\n",
    "        denominator = np.sum(np.abs(A[i]))\n",
    "        if denominator == 0:\n",
    "            result[i] = 0\n",
    "        else:\n",
    "            result[i] = (u[i] - np.sum(A[i]) + np.sum(expr)) / denominator\n",
    "    return result"
   ]
  },
  {
   "cell_type": "code",
   "execution_count": 9,
   "metadata": {},
   "outputs": [],
   "source": [
    "def next_tau(lambd, tau, z, A, v, M):\n",
    "    min_z = np.where(z.T < 0, z.T, 0)\n",
    "    result = tau.copy()\n",
    "    for j in range(result.shape[0]):\n",
    "        expr = A.T[j]*min_z[j]*M - lambd*np.abs(A.T[j])\n",
    "        denominator = np.sum(np.abs(A.T[j]))\n",
    "        if denominator == 0:\n",
    "            result[j] = 0\n",
    "        else:\n",
    "            result[j] = (v[j] - np.sum(A.T[j]) + np.sum(expr)) / denominator\n",
    "    return result"
   ]
  },
  {
   "cell_type": "code",
   "execution_count": 10,
   "metadata": {},
   "outputs": [],
   "source": [
    "def compute_z(lambd, tau, z, A, M):\n",
    "    result = copy.deepcopy(z)\n",
    "    for i in range(z.shape[0]):\n",
    "        for j in range(z.shape[1]):\n",
    "            if A[i][j] == 0:\n",
    "                result[i][j] = 1\n",
    "            else:\n",
    "                var = 1 + ((lambd[i] + tau[j])*A[i][j] / abs(A[i][j]))\n",
    "                if var >= 0:\n",
    "                    result[i][j] = var\n",
    "                else:\n",
    "                    result[i][j] = var / (1 + M)\n",
    "    return result"
   ]
  },
  {
   "cell_type": "code",
   "execution_count": 11,
   "metadata": {},
   "outputs": [],
   "source": [
    "M = 1000  # Hyperparameter desired to be as big as possible.  \n",
    "z = np.ones(A.shape)\n",
    "lambd = np.zeros(u.shape[0])\n",
    "tau = np.zeros(v.shape[0])\n",
    "eps = 1e-9  # The desired accuracy.\n",
    "while 1:\n",
    "    new_lambd = next_lambda(lambd, tau, z, A, u, M)\n",
    "    new_tau = next_tau(new_lambd, tau, z, A, v, M)\n",
    "    z = compute_z(new_lambd, new_tau, z, A, M)\n",
    "    if np.linalg.norm(new_lambd - lambd) < eps and np.linalg.norm(new_tau - tau) < eps:\n",
    "        break\n",
    "    lambd = new_lambd\n",
    "    tau = new_tau"
   ]
  },
  {
   "cell_type": "code",
   "execution_count": 12,
   "metadata": {},
   "outputs": [
    {
     "data": {
      "text/plain": [
       "array([27693.,   244.,   512., 22399., 57960.,  3498.,  2704.,  5990.,\n",
       "        4687., 32868., 47939.,  5497.,  7557.,  5964.,  8800., 18640.,\n",
       "       27719.,  5668., 25233.,  7289.,  6039., 11105.,  8256., 18539.,\n",
       "        1674.,  7806., 91130., 16979., 83954., 35687., 27409.,  7307.,\n",
       "        9679., 18862.,  5027., 20049.,  6182.,  4313., 17056., 24503.,\n",
       "       48632., 21409.,  5965., 69809., 52935., 15011.,  4394.,  8097.,\n",
       "        6078., 10143., 19097.,  7381., 14314., 74460., 37910., 41940.,\n",
       "       33790.,  8463.,  5703.,  6053.,   834.,  5120.,   445.,     0.])"
      ]
     },
     "execution_count": 12,
     "metadata": {},
     "output_type": "execute_result"
    }
   ],
   "source": [
    "np.sum(np.round(z*A), axis=0)  # Summ by rows of our predicted matrix"
   ]
  },
  {
   "cell_type": "code",
   "execution_count": 13,
   "metadata": {},
   "outputs": [
    {
     "data": {
      "text/plain": [
       "array([27694.,   243.,   512., 22399., 57961.,  3499.,  2703.,  5992.,\n",
       "        4688., 32869., 47941.,  5497.,  7557.,  5966.,  8799., 18641.,\n",
       "       27719.,  5671., 25231.,  7289.,  6038., 11103.,  8255., 18540.,\n",
       "        1673.,  7806., 91131., 16981., 83954., 35689., 27409.,  7308.,\n",
       "        9679., 18862.,  5027., 20050.,  6183.,  4313., 17057., 24503.,\n",
       "       48631., 21409.,  5964., 69809., 52932., 15010.,  4394.,  8098.,\n",
       "        6077., 10141., 19099.,  7382., 14314., 74463., 37910., 41938.,\n",
       "       33790.,  8464.,  5704.,  6053.,   835.,  5120.,   445.,     0.])"
      ]
     },
     "execution_count": 13,
     "metadata": {},
     "output_type": "execute_result"
    }
   ],
   "source": [
    "np.sum(B, axis=0)  # Summ by rows of actuall matrix"
   ]
  },
  {
   "cell_type": "markdown",
   "metadata": {},
   "source": [
    "## 2.5 Improved square differences (ISD)"
   ]
  },
  {
   "cell_type": "code",
   "execution_count": 14,
   "metadata": {},
   "outputs": [],
   "source": [
    "def ISDnext_lambda(lambd, tau, z, A, u, M):\n",
    "    min_z = np.where(z < 0, z, 0)\n",
    "    result = lambd.copy()\n",
    "    delta_A = np.where(A != 0, 1, 0)\n",
    "    for i in range(result.shape[0]):\n",
    "        expr = A[i]*min_z[i]*M - tau*delta_A[i]\n",
    "        denominator = np.sum(delta_A[i])\n",
    "        if denominator == 0:\n",
    "            result[i] = 0\n",
    "        else:\n",
    "            result[i] = (u[i] - np.sum(A[i]) + np.sum(expr)) / denominator\n",
    "    return result"
   ]
  },
  {
   "cell_type": "code",
   "execution_count": 15,
   "metadata": {},
   "outputs": [],
   "source": [
    "def ISDnext_tau(lambd, tau, z, A, v, M):\n",
    "    min_z = np.where(z.T < 0, z.T, 0)\n",
    "    result = tau.copy()\n",
    "    delt_A = np.where(A != 0, 1, 0)\n",
    "    for j in range(result.shape[0]):\n",
    "        expr = A.T[j]*min_z[j]*M - lambd*delt_A.T[j]\n",
    "        denominator = np.sum(delt_A.T[j])\n",
    "        if denominator == 0:\n",
    "            result[j] = 0\n",
    "        else:\n",
    "            result[j] = (v[j] - np.sum(A.T[j]) + np.sum(expr)) / denominator\n",
    "    return result"
   ]
  },
  {
   "cell_type": "code",
   "execution_count": 16,
   "metadata": {},
   "outputs": [],
   "source": [
    "def ISDcompute_z(lambd, tau, z, A, M):\n",
    "    result = copy.deepcopy(z)\n",
    "    for i in range(z.shape[0]):\n",
    "        for j in range(z.shape[1]):\n",
    "            if A[i][j] == 0:\n",
    "                result[i][j] = 1\n",
    "            else:\n",
    "                var = 1 + ((lambd[i] + tau[j]) / A[i][j])\n",
    "                if var >= 0:\n",
    "                    result[i][j] = var\n",
    "                else:\n",
    "                    result[i][j] = var / (1 + M)\n",
    "    return result"
   ]
  },
  {
   "cell_type": "code",
   "execution_count": 17,
   "metadata": {},
   "outputs": [],
   "source": [
    "M = 100\n",
    "z = np.ones(A.shape)\n",
    "lambd = np.zeros(u.shape[0])\n",
    "tau = np.zeros(v.shape[0])\n",
    "eps = 1e-8\n",
    "while 1:\n",
    "    new_lambd = ISDnext_lambda(lambd, tau, z, A, u, M)\n",
    "    new_tau = ISDnext_tau(new_lambd, tau, z, A, v, M)\n",
    "    z = ISDcompute_z(new_lambd, new_tau, z, A, M)\n",
    "    if np.linalg.norm(new_lambd - lambd) < eps and np.linalg.norm(new_tau - tau) < eps:\n",
    "        break\n",
    "    lambd = new_lambd\n",
    "    tau = new_tau"
   ]
  },
  {
   "cell_type": "code",
   "execution_count": 19,
   "metadata": {},
   "outputs": [
    {
     "data": {
      "text/plain": [
       "array([27695.,   243.,   512., 22399., 57963.,  3500.,  2701.,  5992.,\n",
       "        4690., 32870., 47939.,  5496.,  7560.,  5966.,  8800., 18643.,\n",
       "       27720.,  5672., 25233.,  7288.,  6038., 11101.,  8254., 18541.,\n",
       "        1672.,  7808., 91133., 16983., 83955., 35689., 27406.,  7309.,\n",
       "        9679., 18859.,  5027., 20051.,  6181.,  4315., 17059., 24502.,\n",
       "       48631., 21410.,  5965., 69809., 52931., 15011.,  4393.,  8098.,\n",
       "        6077., 10138., 19099.,  7382., 14314., 74467., 37911., 41938.,\n",
       "       33790.,  8464.,  5705.,  6052.,   835.,  5120.,   445.,     0.])"
      ]
     },
     "execution_count": 19,
     "metadata": {},
     "output_type": "execute_result"
    }
   ],
   "source": [
    "np.sum(np.round(z*A), axis=0)"
   ]
  },
  {
   "cell_type": "code",
   "execution_count": 20,
   "metadata": {},
   "outputs": [
    {
     "data": {
      "text/plain": [
       "array([27694.,   243.,   512., 22399., 57961.,  3499.,  2703.,  5992.,\n",
       "        4688., 32869., 47941.,  5497.,  7557.,  5966.,  8799., 18641.,\n",
       "       27719.,  5671., 25231.,  7289.,  6038., 11103.,  8255., 18540.,\n",
       "        1673.,  7806., 91131., 16981., 83954., 35689., 27409.,  7308.,\n",
       "        9679., 18862.,  5027., 20050.,  6183.,  4313., 17057., 24503.,\n",
       "       48631., 21409.,  5964., 69809., 52932., 15010.,  4394.,  8098.,\n",
       "        6077., 10141., 19099.,  7382., 14314., 74463., 37910., 41938.,\n",
       "       33790.,  8464.,  5704.,  6053.,   835.,  5120.,   445.,     0.])"
      ]
     },
     "execution_count": 20,
     "metadata": {},
     "output_type": "execute_result"
    }
   ],
   "source": [
    "np.sum(B, axis=0)"
   ]
  },
  {
   "cell_type": "markdown",
   "metadata": {},
   "source": [
    "## 2.6 Improved weighted square differences (IWS)"
   ]
  },
  {
   "cell_type": "code",
   "execution_count": 21,
   "metadata": {},
   "outputs": [],
   "source": [
    "def IWSnext_lambda(lambd, tau, z, A, u, M, devided_A):\n",
    "    min_z = np.where(z < 0, z, 0)\n",
    "    result = lambd.copy()      \n",
    "    for i in range(result.shape[0]):\n",
    "        expr = A[i]*min_z[i]*M - tau*devided_A[i]\n",
    "        denominator = np.sum(devided_A[i])           \n",
    "        if denominator == 0:\n",
    "            result[i] = 0\n",
    "        else:\n",
    "            result[i] = (u[i] - np.sum(A[i]) + np.sum(expr)) / denominator\n",
    "    return result"
   ]
  },
  {
   "cell_type": "code",
   "execution_count": 22,
   "metadata": {},
   "outputs": [],
   "source": [
    "def IWSnext_tau(lambd, tau, z, A, v, M, devided_A):\n",
    "    min_z = np.where(z.T < 0, z.T, 0)\n",
    "    result = tau.copy()       \n",
    "    for j in range(result.shape[0]):\n",
    "        expr = A.T[j]*min_z[j]*M - lambd*devided_A.T[j]\n",
    "        denominator = np.sum(devided_A.T[j])\n",
    "        if denominator == 0:\n",
    "            result[j] = 0\n",
    "        else:\n",
    "            result[j] = (v[j] - np.sum(A.T[j]) + np.sum(expr)) / denominator\n",
    "    return result"
   ]
  },
  {
   "cell_type": "code",
   "execution_count": 23,
   "metadata": {},
   "outputs": [],
   "source": [
    "def IWScompute_z(lambd, tau, z, A, M):\n",
    "    result = copy.deepcopy(z)\n",
    "    for i in range(z.shape[0]):\n",
    "        for j in range(z.shape[1]):\n",
    "            if A[i][j] == 0:\n",
    "                result[i][j] = 1\n",
    "            else:\n",
    "                var = 1 + ((lambd[i] + tau[j])*A[i][j]) / (abs(A[i][j])**3)\n",
    "                if var >= 0:\n",
    "                    result[i][j] = var\n",
    "                else:\n",
    "                    result[i][j] = var / (1 + M)\n",
    "    return result"
   ]
  },
  {
   "cell_type": "code",
   "execution_count": 24,
   "metadata": {},
   "outputs": [],
   "source": [
    "M = 100\n",
    "z = np.ones(A.shape)\n",
    "lambd = np.zeros(u.shape[0])\n",
    "tau = np.zeros(v.shape[0])\n",
    "eps = 1e-1\n",
    "devided_A = np.zeros(A.shape)  # It is a matrix which elements are (a_ij)^(-1)\n",
    "for i in range(A.shape[0]):\n",
    "    for j in range(A.shape[1]):\n",
    "        devided_A[i][j] = 1/A[i][j] if A[i][j] != 0 else 0\n",
    "while 1:\n",
    "    new_lambd = IWSnext_lambda(lambd, tau, z, A, u, M, devided_A)\n",
    "    new_tau = IWSnext_tau(new_lambd, tau, z, A, v, M, devided_A)\n",
    "    z = IWScompute_z(new_lambd, new_tau, z, A, M)\n",
    "    if np.linalg.norm(new_lambd - lambd) < eps and np.linalg.norm(new_tau - tau) < eps:\n",
    "        break\n",
    "    lambd = new_lambd\n",
    "    tau = new_tau"
   ]
  },
  {
   "cell_type": "code",
   "execution_count": 26,
   "metadata": {},
   "outputs": [
    {
     "data": {
      "text/plain": [
       "array([27696.,   243.,   512., 22400., 57961.,  3498.,  2703.,  5991.,\n",
       "        4688., 32871., 47941.,  5498.,  7558.,  5965.,  8798., 18641.,\n",
       "       27721.,  5672., 25233.,  7288.,  6039., 11102.,  8255., 18540.,\n",
       "        1674.,  7806., 91131., 16981., 83954., 35691., 27410.,  7308.,\n",
       "        9680., 18864.,  5027., 20050.,  6181.,  4312., 17057., 24507.,\n",
       "       48632., 21408.,  5964., 69809., 52932., 15010.,  4394.,  8097.,\n",
       "        6076., 10141., 19099.,  7381., 14314., 74465., 37910., 41938.,\n",
       "       33790.,  8465.,  5704.,  6054.,   837.,  5120.,   445.,     0.])"
      ]
     },
     "execution_count": 26,
     "metadata": {},
     "output_type": "execute_result"
    }
   ],
   "source": [
    "np.sum(np.round(z*A), axis=0)"
   ]
  },
  {
   "cell_type": "code",
   "execution_count": 27,
   "metadata": {},
   "outputs": [
    {
     "data": {
      "text/plain": [
       "array([27694.,   243.,   512., 22399., 57961.,  3499.,  2703.,  5992.,\n",
       "        4688., 32869., 47941.,  5497.,  7557.,  5966.,  8799., 18641.,\n",
       "       27719.,  5671., 25231.,  7289.,  6038., 11103.,  8255., 18540.,\n",
       "        1673.,  7806., 91131., 16981., 83954., 35689., 27409.,  7308.,\n",
       "        9679., 18862.,  5027., 20050.,  6183.,  4313., 17057., 24503.,\n",
       "       48631., 21409.,  5964., 69809., 52932., 15010.,  4394.,  8098.,\n",
       "        6077., 10141., 19099.,  7382., 14314., 74463., 37910., 41938.,\n",
       "       33790.,  8464.,  5704.,  6053.,   835.,  5120.,   445.,     0.])"
      ]
     },
     "execution_count": 27,
     "metadata": {},
     "output_type": "execute_result"
    }
   ],
   "source": [
    "np.sum(B, axis=0)"
   ]
  },
  {
   "cell_type": "code",
   "execution_count": 28,
   "metadata": {},
   "outputs": [],
   "source": [
    "methods = {'INS': [next_lambda, next_tau, compute_z], 'ISD': [ISDnext_lambda, ISDnext_tau, ISDcompute_z], \n",
    "          'IWS': [IWSnext_lambda, IWSnext_tau, IWScompute_z]}"
   ]
  },
  {
   "cell_type": "code",
   "execution_count": 29,
   "metadata": {},
   "outputs": [],
   "source": [
    "def predict(previous_year, current_year, method='INS', M=100, eps=1e-8):\n",
    "    '''This is the main function which taken the previous year data can predict matrix for the next year.\n",
    "    variables:\n",
    "    current_year:\n",
    "        is needed to compute the overall data (summ by rows and columns).\n",
    "    previous_year:\n",
    "        data of the previous year\n",
    "    method:\n",
    "        It is one of the following strings: \"INS\", \"ISD\", \"IWS\". The chosen method will be used\n",
    "    M:\n",
    "        refer to the hyperparameter. For more details refer to the \"MainArticle\" which is:\n",
    "        Projection of Supply and Use tables: methods and their empirical assessment\n",
    "        Working Paper Number: 2\n",
    "        Authors: Umed Temurshoev, Norihiko Yamano and Colin Webb'''\n",
    "    if method == 'RAS':\n",
    "        return RAS_pred(previous_year, current_year, eps)\n",
    "    A = previous_year\n",
    "    B = current_year\n",
    "    u = np.sum(B, axis=1)\n",
    "    v = np.sum(B, axis=0)\n",
    "    z = np.ones(A.shape)\n",
    "    lambd = np.zeros(u.shape[0])\n",
    "    tau = np.zeros(v.shape[0])\n",
    "    \n",
    "    if method == 'IWS':\n",
    "        devided_A = np.zeros(A.shape)\n",
    "        for i in range(A.shape[0]):\n",
    "            for j in range(A.shape[1]):\n",
    "                devided_A[i][j] = 1/A[i][j] if A[i][j] != 0 else 0\n",
    "                \n",
    "        while 1:\n",
    "            new_lambd = methods[method][0](lambd, tau, z, A, u, M, devided_A)\n",
    "            new_tau = methods[method][1](new_lambd, tau, z, A, v, M, devided_A)\n",
    "            z = methods[method][2](new_lambd, new_tau, z, A, M)\n",
    "            if np.linalg.norm(new_lambd - lambd) < eps and np.linalg.norm(new_tau - tau) < eps:\n",
    "                break\n",
    "            lambd = new_lambd\n",
    "            tau = new_tau        \n",
    "        pred_current_year = z*A\n",
    "        return pred_current_year\n",
    "                \n",
    "                \n",
    "    while 1:\n",
    "        new_lambd = methods[method][0](lambd, tau, z, A, u, M)\n",
    "        new_tau = methods[method][1](new_lambd, tau, z, A, v, M)\n",
    "        z = methods[method][2](new_lambd, new_tau, z, A, M)\n",
    "        if np.linalg.norm(new_lambd - lambd) < eps and np.linalg.norm(new_tau - tau) < eps:\n",
    "            break\n",
    "        lambd = new_lambd\n",
    "        tau = new_tau\n",
    "    pred_current_year = z*A\n",
    "    return pred_current_year"
   ]
  },
  {
   "cell_type": "markdown",
   "metadata": {},
   "source": [
    "# Metrics"
   ]
  },
  {
   "cell_type": "code",
   "execution_count": 30,
   "metadata": {},
   "outputs": [],
   "source": [
    "def MAPE(result, true):\n",
    "    answer = 0\n",
    "    for i in range(true.shape[0]):\n",
    "        for j in range(true.shape[1]):\n",
    "            if true[i][j] != 0:\n",
    "                answer += abs(result[i][j] - true[i][j]) / abs(true[i][j])\n",
    "            elif result[i][j] != 0:\n",
    "                answer += abs(result[i][j] - true[i][j]) / abs(result[i][j])\n",
    "    return 100*answer / (true.shape[0] * true.shape[1])"
   ]
  },
  {
   "cell_type": "code",
   "execution_count": 31,
   "metadata": {},
   "outputs": [],
   "source": [
    "def WAPE(result, true):\n",
    "    answer = 0\n",
    "    for i in range(true.shape[0]):\n",
    "        for j in range(true.shape[1]):\n",
    "            if true[i][j] != 0:\n",
    "                answer += (abs(true[i][j]) / np.sum(true)) * abs(result[i][j] - true[i][j]) / abs(true[i][j])\n",
    "            else:\n",
    "                answer += abs(result[i][j] - true[i][j]) / np.sum(true)\n",
    "    return answer * 100"
   ]
  },
  {
   "cell_type": "code",
   "execution_count": 32,
   "metadata": {},
   "outputs": [],
   "source": [
    "def SWAD(result, true):\n",
    "    return np.sum(np.abs(true*(result - true)))  / np.sum(np.square(true))"
   ]
  },
  {
   "cell_type": "markdown",
   "metadata": {},
   "source": [
    "## Full circle of predictions"
   ]
  },
  {
   "cell_type": "code",
   "execution_count": 34,
   "metadata": {},
   "outputs": [],
   "source": [
    "metrics_name = ['MAPE', 'WAPE', 'SWAD']\n",
    "methods_name = ['IWS', 'INS', 'ISD', 'RAS']\n",
    "metrics = [MAPE, WAPE, SWAD]"
   ]
  },
  {
   "cell_type": "code",
   "execution_count": 35,
   "metadata": {},
   "outputs": [],
   "source": [
    "sup10 = np.load('data//sup10.npy')\n",
    "sup11 = np.load('data//sup11.npy')\n",
    "sup12 = np.load('data//sup12.npy')\n",
    "use10 = np.load('data//use10.npy')\n",
    "use11 = np.load('data//use11.npy')\n",
    "use12 = np.load('data//use12.npy')"
   ]
  },
  {
   "cell_type": "code",
   "execution_count": 36,
   "metadata": {},
   "outputs": [],
   "source": [
    "total_results = {i: {method: {metric: 0 for metric in metrics_name} \n",
    "                     for method in methods_name} \n",
    "                 for i in ['sup11', 'sup12', 'use11', 'use12']}"
   ]
  },
  {
   "cell_type": "code",
   "execution_count": 37,
   "metadata": {},
   "outputs": [],
   "source": [
    "for method in methods_name:\n",
    "    if method == 'IWS':\n",
    "        continue\n",
    "    M = 10\n",
    "    eps = 1e-8\n",
    "    pred_sup11 = predict(sup10, sup11, method=method, M=M, eps=eps)\n",
    "    pred_sup12 = predict(pred_sup11, sup12, method=method, M=M, eps=eps)\n",
    "    pred_use11 = predict(use10, use11, method=method, M=M, eps=eps)\n",
    "    pred_use12 = predict(pred_use11, use12, method=method, M=M, eps=eps)\n",
    "    for metric_name, metric in zip(metrics_name, metrics):\n",
    "        total_results['sup11'][method][metric_name] = metric(pred_sup11, sup11)\n",
    "        total_results['sup12'][method][metric_name] = metric(pred_sup12, sup12)\n",
    "        total_results['use11'][method][metric_name] = metric(pred_use11, use11)\n",
    "        total_results['use12'][method][metric_name] = metric(pred_use12, use12)"
   ]
  },
  {
   "cell_type": "code",
   "execution_count": 38,
   "metadata": {},
   "outputs": [],
   "source": [
    "method = 'IWS'\n",
    "M = 10\n",
    "eps = 0.01\n",
    "pred_sup11 = predict(sup10, sup11, method=method, M=M, eps=eps)\n",
    "pred_sup12 = predict(np.where(pred_sup11 > 0, pred_sup11, 0), sup12, method=method, M=M, eps=eps)\n",
    "pred_use11 = predict(use10, use11, method=method, M=M, eps=eps)\n",
    "pred_use12 = predict(np.where(pred_use11 > 0, pred_use11, 0), use12, method=method, M=M, eps=eps)\n",
    "for metric_name, metric in zip(metrics_name, metrics):\n",
    "    total_results['sup11'][method][metric_name] = metric(pred_sup11, sup11)\n",
    "    total_results['sup12'][method][metric_name] = metric(pred_sup12, sup12)\n",
    "    total_results['use11'][method][metric_name] = metric(pred_use11, use11)\n",
    "    total_results['use12'][method][metric_name] = metric(pred_use12, use12)"
   ]
  },
  {
   "cell_type": "code",
   "execution_count": 410,
   "metadata": {},
   "outputs": [
    {
     "name": "stdout",
     "output_type": "stream",
     "text": [
      "Рузальтаты при M=100.000\n",
      "-----------------------sup11--------------------\n",
      "             IWS       INS         ISD        RAS\n",
      "MAPE  319.211952  7.583174  157.425026  81.943565\n",
      "WAPE   13.684159  1.700187   10.664708   5.827249\n",
      "SWAD    0.052362  0.004038    0.046185   0.049272\n",
      "------------------------------------------------\n",
      "\n",
      "-----------------------sup12--------------------\n",
      "             IWS       INS         ISD        RAS\n",
      "MAPE  337.659387  9.755207  253.139045  83.090178\n",
      "WAPE   18.646112  2.381380   14.243923   5.119052\n",
      "SWAD    0.070047  0.004930    0.059324   0.037626\n",
      "------------------------------------------------\n",
      "\n",
      "-----------------------use11--------------------\n",
      "             IWS        INS         ISD        RAS\n",
      "MAPE  331.943745  11.993685  156.975806  33.427618\n",
      "WAPE   21.394158   5.013336   17.097695   9.515708\n",
      "SWAD    0.133709   0.021530    0.125398   0.075513\n",
      "------------------------------------------------\n",
      "\n",
      "-----------------------use12--------------------\n",
      "             IWS        INS         ISD        RAS\n",
      "MAPE  369.600069  14.591260  245.087497  32.895823\n",
      "WAPE   29.965576   7.318811   24.026268   9.170492\n",
      "SWAD    0.185548   0.033031    0.174972   0.074896\n",
      "------------------------------------------------\n",
      "\n"
     ]
    }
   ],
   "source": [
    "print('Рузальтаты при M=100.000')\n",
    "for instance in ['sup11', 'sup12', 'use11', 'use12']:\n",
    "    print('-----------------------'+instance+'--------------------')\n",
    "    print(pd.DataFrame(total_results[instance]))\n",
    "    print('------------------------------------------------')\n",
    "    print()"
   ]
  },
  {
   "cell_type": "code",
   "execution_count": 413,
   "metadata": {},
   "outputs": [
    {
     "name": "stdout",
     "output_type": "stream",
     "text": [
      "Рузальтаты при M=10.000\n",
      "-----------------------sup11--------------------\n",
      "             IWS       INS         ISD        RAS\n",
      "MAPE  322.246585  7.583174  157.433136  81.943565\n",
      "WAPE   13.699382  1.700187   10.664767   5.827249\n",
      "SWAD    0.052370  0.004038    0.046185   0.049272\n",
      "------------------------------------------------\n",
      "\n",
      "-----------------------sup12--------------------\n",
      "             IWS       INS         ISD        RAS\n",
      "MAPE  348.630454  9.755207  253.147606  83.090178\n",
      "WAPE   18.694534  2.381380   14.243971   5.119052\n",
      "SWAD    0.070136  0.004930    0.059324   0.037626\n",
      "------------------------------------------------\n",
      "\n",
      "-----------------------use11--------------------\n",
      "             IWS        INS         ISD        RAS\n",
      "MAPE  334.347443  11.993685  156.994151  33.427618\n",
      "WAPE   21.411596   5.013336   17.097805   9.515708\n",
      "SWAD    0.133708   0.021530    0.125399   0.075513\n",
      "------------------------------------------------\n",
      "\n",
      "-----------------------use12--------------------\n",
      "             IWS        INS         ISD        RAS\n",
      "MAPE  369.757330  14.591260  245.102227  32.895823\n",
      "WAPE   29.957578   7.318811   24.026311   9.170492\n",
      "SWAD    0.185547   0.033031    0.174972   0.074896\n",
      "------------------------------------------------\n",
      "\n"
     ]
    }
   ],
   "source": [
    "print('Рузальтаты при M=10.000')\n",
    "for instance in ['sup11', 'sup12', 'use11', 'use12']:\n",
    "    print('-----------------------'+instance+'--------------------')\n",
    "    print(pd.DataFrame(total_results[instance]))\n",
    "    print('------------------------------------------------')\n",
    "    print()"
   ]
  },
  {
   "cell_type": "code",
   "execution_count": 416,
   "metadata": {},
   "outputs": [
    {
     "name": "stdout",
     "output_type": "stream",
     "text": [
      "Рузальтаты при M=1.000\n",
      "-----------------------sup11--------------------\n",
      "             IWS       INS         ISD        RAS\n",
      "MAPE  349.092392  7.583174  157.513699  81.943565\n",
      "WAPE   13.807266  1.700187   10.665363   5.827249\n",
      "SWAD    0.052405  0.004038    0.046185   0.049272\n",
      "------------------------------------------------\n",
      "\n",
      "-----------------------sup12--------------------\n",
      "             IWS       INS         ISD        RAS\n",
      "MAPE  360.203661  9.755207  253.227123  83.090178\n",
      "WAPE   18.706378  2.381380   14.244367   5.119052\n",
      "SWAD    0.070169  0.004930    0.059328   0.037626\n",
      "------------------------------------------------\n",
      "\n",
      "-----------------------use11--------------------\n",
      "             IWS        INS         ISD        RAS\n",
      "MAPE  355.488175  11.993685  157.176774  33.427618\n",
      "WAPE   21.567331   5.013336   17.098901   9.515708\n",
      "SWAD    0.133695   0.021530    0.125400   0.075513\n",
      "------------------------------------------------\n",
      "\n",
      "-----------------------use12--------------------\n",
      "             IWS        INS         ISD        RAS\n",
      "MAPE  385.233413  14.591260  245.249438  32.895823\n",
      "WAPE   30.131368   7.318811   24.026736   9.170492\n",
      "SWAD    0.185568   0.033031    0.174973   0.074896\n",
      "------------------------------------------------\n",
      "\n"
     ]
    }
   ],
   "source": [
    "print('Рузальтаты при M=1.000')\n",
    "for instance in ['sup11', 'sup12', 'use11', 'use12']:\n",
    "    print('-----------------------'+instance+'--------------------')\n",
    "    print(pd.DataFrame(total_results[instance]))\n",
    "    print('------------------------------------------------')\n",
    "    print()"
   ]
  },
  {
   "cell_type": "code",
   "execution_count": 419,
   "metadata": {},
   "outputs": [
    {
     "name": "stdout",
     "output_type": "stream",
     "text": [
      "Рузальтаты при M=100\n",
      "-----------------------sup11--------------------\n",
      "             IWS       INS         ISD        RAS\n",
      "MAPE  473.186929  7.583174  158.291903  81.943565\n",
      "WAPE   14.260326  1.700187   10.671134   5.827249\n",
      "SWAD    0.052417  0.004038    0.046189   0.049272\n",
      "------------------------------------------------\n",
      "\n",
      "-----------------------sup12--------------------\n",
      "             IWS       INS         ISD        RAS\n",
      "MAPE  413.803444  9.755207  254.167487  83.090178\n",
      "WAPE   19.330434  2.381380   14.248677   5.119052\n",
      "SWAD    0.070235  0.004930    0.059360   0.037626\n",
      "------------------------------------------------\n",
      "\n",
      "-----------------------use11--------------------\n",
      "             IWS        INS         ISD        RAS\n",
      "MAPE  463.498420  11.993685  158.932695  33.427618\n",
      "WAPE   22.285158   5.013336   17.109343   9.515708\n",
      "SWAD    0.133641   0.021530    0.125409   0.075513\n",
      "------------------------------------------------\n",
      "\n",
      "-----------------------use12--------------------\n",
      "             IWS        INS         ISD        RAS\n",
      "MAPE  405.508172  14.591260  247.036081  32.895823\n",
      "WAPE   30.581745   7.318811   24.021300   9.170492\n",
      "SWAD    0.185587   0.033031    0.174987   0.074896\n",
      "------------------------------------------------\n",
      "\n"
     ]
    }
   ],
   "source": [
    "print('Рузальтаты при M=100')\n",
    "for instance in ['sup11', 'sup12', 'use11', 'use12']:\n",
    "    print('-----------------------'+instance+'--------------------')\n",
    "    print(pd.DataFrame(total_results[instance]))\n",
    "    print('------------------------------------------------')\n",
    "    print()"
   ]
  },
  {
   "cell_type": "code",
   "execution_count": 39,
   "metadata": {},
   "outputs": [
    {
     "name": "stdout",
     "output_type": "stream",
     "text": [
      "Рузальтаты при M=10\n",
      "-----------------------sup11--------------------\n",
      "             IWS       INS         ISD        RAS\n",
      "MAPE  683.883327  7.583174  164.145255  81.943565\n",
      "WAPE   15.155620  1.700187   10.716287   5.827249\n",
      "SWAD    0.052401  0.004038    0.046222   0.049272\n",
      "------------------------------------------------\n",
      "\n",
      "-----------------------sup12--------------------\n",
      "             IWS       INS         ISD        RAS\n",
      "MAPE  547.439884  9.755207  262.674272  83.090178\n",
      "WAPE   20.472053  2.381380   14.281199   5.119052\n",
      "SWAD    0.070181  0.004930    0.059595   0.037626\n",
      "------------------------------------------------\n",
      "\n",
      "-----------------------use11--------------------\n",
      "             IWS        INS         ISD        RAS\n",
      "MAPE  693.936618  11.993685  171.258934  33.427618\n",
      "WAPE   23.836943   5.013336   17.186104   9.515708\n",
      "SWAD    0.133579   0.021530    0.125476   0.075513\n",
      "------------------------------------------------\n",
      "\n",
      "-----------------------use12--------------------\n",
      "             IWS        INS         ISD        RAS\n",
      "MAPE  546.791279  14.591260  261.844006  32.895823\n",
      "WAPE   33.204542   7.318811   24.067490   9.170492\n",
      "SWAD    0.185510   0.033031    0.175072   0.074896\n",
      "------------------------------------------------\n",
      "\n"
     ]
    }
   ],
   "source": [
    "print('Рузальтаты при M=10')\n",
    "for instance in ['sup11', 'sup12', 'use11', 'use12']:\n",
    "    print('-----------------------'+instance+'--------------------')\n",
    "    print(pd.DataFrame(total_results[instance]))\n",
    "    print('------------------------------------------------')\n",
    "    print()"
   ]
  },
  {
   "cell_type": "code",
   "execution_count": 44,
   "metadata": {},
   "outputs": [
    {
     "name": "stdout",
     "output_type": "stream",
     "text": [
      "Рузальтаты при M=0\n",
      "-----------------------sup11--------------------\n",
      "             IWS       INS         ISD        RAS\n",
      "MAPE  852.871567  7.583174  191.204137  81.943565\n",
      "WAPE   16.025143  1.700187   10.940347   5.827249\n",
      "SWAD    0.052394  0.004038    0.046383   0.049272\n",
      "------------------------------------------------\n",
      "\n",
      "-----------------------sup12--------------------\n",
      "             IWS       INS         ISD        RAS\n",
      "MAPE  729.721125  9.755207  306.896772  83.090178\n",
      "WAPE   22.099099  2.381380   14.609489   5.119052\n",
      "SWAD    0.070144  0.004930    0.060405   0.037626\n",
      "------------------------------------------------\n",
      "\n",
      "-----------------------use11--------------------\n",
      "             IWS        INS         ISD        RAS\n",
      "MAPE  941.412129  11.993685  217.577982  33.427618\n",
      "WAPE   25.348919   5.013336   17.466787   9.515708\n",
      "SWAD    0.133537   0.021530    0.125710   0.075513\n",
      "------------------------------------------------\n",
      "\n",
      "-----------------------use12--------------------\n",
      "             IWS        INS         ISD        RAS\n",
      "MAPE  864.131286  14.591260  316.794436  32.895823\n",
      "WAPE   36.081294   7.318811   24.432010   9.170492\n",
      "SWAD    0.185238   0.033031    0.175413   0.074896\n",
      "------------------------------------------------\n",
      "\n"
     ]
    }
   ],
   "source": [
    "print('Рузальтаты при M=0')\n",
    "for instance in ['sup11', 'sup12', 'use11', 'use12']:\n",
    "    print('-----------------------'+instance+'--------------------')\n",
    "    print(pd.DataFrame(total_results[instance]))\n",
    "    print('------------------------------------------------')\n",
    "    print()"
   ]
  },
  {
   "cell_type": "code",
   "execution_count": null,
   "metadata": {},
   "outputs": [],
   "source": []
  }
 ],
 "metadata": {
  "kernelspec": {
   "display_name": "Python 3",
   "language": "python",
   "name": "python3"
  },
  "language_info": {
   "codemirror_mode": {
    "name": "ipython",
    "version": 3
   },
   "file_extension": ".py",
   "mimetype": "text/x-python",
   "name": "python",
   "nbconvert_exporter": "python",
   "pygments_lexer": "ipython3",
   "version": "3.7.4"
  }
 },
 "nbformat": 4,
 "nbformat_minor": 2
}
